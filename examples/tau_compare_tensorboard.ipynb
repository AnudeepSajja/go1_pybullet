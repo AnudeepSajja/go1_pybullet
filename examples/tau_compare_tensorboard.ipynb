{
 "cells": [
  {
   "cell_type": "code",
   "execution_count": 7,
   "metadata": {},
   "outputs": [],
   "source": [
    "import time\n",
    "import numpy as np\n",
    "\n",
    "import pandas as pd\n",
    "# from tensorboardX import SummaryWriter\n",
    "from torch.utils.tensorboard import SummaryWriter\n",
    "from END2ENDPredictor import NMPCPredictor  # Ensure this path is correct\n",
    "\n",
    "\n",
    "\n",
    "# File paths\n",
    "file_path_1 = \"/home/anudeep/go1_mpc/lowlevel_actions/ROBOT/go1_lowlevel_data_action_eval_20.01.csv\"\n",
    "file_path_2 = \"/home/anudeep/go1_mpc/predicted_data/low_pred_torques_gazeob.csv\"\n",
    "\n",
    "# Load actual torque data\n",
    "df_actual = pd.read_csv(file_path_1)\n",
    "# tau_data_actual = df_actual.iloc[:, -12:]  # Assuming the last 12 columns are actual torques\n",
    "obs_state_data = df_actual.iloc[:, :-12]\n",
    "tau_data_actual = obs_state_data.iloc[:, -12:]\n",
    "\n",
    "# Load predicted torque data\n",
    "df_predicted = pd.read_csv(file_path_2)\n",
    "tau_data_pred = df_predicted.iloc[:, :12]  # Extracting the first 12 columns for predicted torques\n",
    "\n",
    "# Convert DataFrames to NumPy arrays for easier manipulation\n",
    "actual_torques_numpy = tau_data_actual.to_numpy()\n",
    "predicted_torques_numpy = tau_data_pred.to_numpy()\n",
    "\n",
    "# Initialize TensorBoard writer\n",
    "writer = SummaryWriter('/home/anudeep/devel/workspace/runs/tau_compare')\n",
    "\n",
    "# Define number of time steps and joints based on the data shape\n",
    "num_time_steps, num_joints = actual_torques_numpy.shape\n",
    "\n",
    "# Log actual and predicted torques to TensorBoard\n",
    "for t in range(5900):\n",
    "    for i in range(num_joints):\n",
    "        writer.add_scalars(f'Joint {i + 1}', {\n",
    "            'Actual Value': actual_torques_numpy[t, i],\n",
    "            'Predicted Value': predicted_torques_numpy[t, i]  # Use predicted values for logging\n",
    "        }, global_step=t)\n",
    "\n",
    "# Close the writer when done\n",
    "writer.close()\n"
   ]
  },
  {
   "cell_type": "code",
   "execution_count": 10,
   "metadata": {},
   "outputs": [
    {
     "ename": "SyntaxError",
     "evalue": "invalid syntax (3666797396.py, line 1)",
     "output_type": "error",
     "traceback": [
      "\u001b[0;36m  Cell \u001b[0;32mIn[10], line 1\u001b[0;36m\u001b[0m\n\u001b[0;31m    tensorboard --logdir=/home/anudeep/devel/workspace/runs/tau_compare\u001b[0m\n\u001b[0m                         ^\u001b[0m\n\u001b[0;31mSyntaxError\u001b[0m\u001b[0;31m:\u001b[0m invalid syntax\n"
     ]
    }
   ],
   "source": [
    "tensorboard --logdir=/home/anudeep/devel/workspace/runs/tau_compare\n"
   ]
  },
  {
   "cell_type": "code",
   "execution_count": null,
   "metadata": {},
   "outputs": [],
   "source": []
  }
 ],
 "metadata": {
  "kernelspec": {
   "display_name": "Python 3",
   "language": "python",
   "name": "python3"
  },
  "language_info": {
   "codemirror_mode": {
    "name": "ipython",
    "version": 3
   },
   "file_extension": ".py",
   "mimetype": "text/x-python",
   "name": "python",
   "nbconvert_exporter": "python",
   "pygments_lexer": "ipython3",
   "version": "3.8.19"
  }
 },
 "nbformat": 4,
 "nbformat_minor": 2
}

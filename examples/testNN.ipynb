{
 "cells": [
  {
   "cell_type": "code",
   "execution_count": null,
   "metadata": {},
   "outputs": [],
   "source": [
    "import pandas as pd\n",
    "import matplotlib.pyplot as plt\n",
    "import seaborn as sns\n"
   ]
  },
  {
   "cell_type": "code",
   "execution_count": null,
   "metadata": {},
   "outputs": [],
   "source": [
    "file_path = '/home/anudeep/devel/workspace/src/data/go1_trot_for5mins.csv'\n",
    "df = pd.read_csv(file_path)\n",
    "\n",
    "# split X and Y, Y contains the last 12 columns and X contains the rest\n",
    "X = df.iloc[:, :-12]\n",
    "Y = df.iloc[:, -12:]\n",
    "\n",
    "# drop the first column of X as it is the time column\n",
    "X = X.drop('time', axis=1)\n",
    "\n",
    "\n",
    "\n",
    "print(X.shape)\n",
    "print(Y.shape)"
   ]
  },
  {
   "cell_type": "code",
   "execution_count": null,
   "metadata": {},
   "outputs": [],
   "source": [
    "# Store the last four columns separately\n",
    "last_four_columns = X.iloc[:, -4:]\n",
    "\n",
    "# Normalize all columns of X except for the last four\n",
    "for col in X.columns[:-4]:  # Exclude the last four columns\n",
    "    # Calculate min and max for the current column\n",
    "    col_min = X[col].min()\n",
    "    col_max = X[col].max()\n",
    "    \n",
    "    # Apply min-max normalization to scale between -1 and 1\n",
    "    X[col] = 2 * (X[col] - col_min) / (col_max - col_min) - 1\n",
    "\n",
    "# Combine normalized X with the last four columns\n",
    "X_normalized = pd.concat([X.iloc[:, :-4], last_four_columns], axis=1)\n",
    "\n",
    "# Normalise all columns of Y\n",
    "for col in Y.columns:\n",
    "    # Calculate min and max for the current column\n",
    "    col_min = Y[col].min()\n",
    "    col_max = Y[col].max()\n",
    "    \n",
    "    # Apply min-max normalization to scale between -1 and 1\n",
    "    Y[col] = 2 * (Y[col] - col_min) / (col_max - col_min) - 1\n",
    "\n",
    "\n",
    "\n",
    "\n",
    "\n"
   ]
  },
  {
   "cell_type": "code",
   "execution_count": null,
   "metadata": {},
   "outputs": [],
   "source": [
    "time\n",
    "base_pos_x    \n",
    "base_pos_y    \n",
    "base_pos_z    \n",
    "base_ori_x   \n",
    "base_ori_y    \n",
    "base_ori_z   \n",
    "base_ori_w    \n",
    "base_vel_x   \n",
    "base_vel_y    \n",
    "base_vel_z   \n",
    "imu_acc_x     \n",
    "imu_acc_y     \n",
    "imu_acc_z     \n",
    "imu_gyro_x   \n",
    "imu_gyro_y   \n",
    "imu_gyro_z    \n",
    "qj_1          \n",
    "qj_2         \n",
    "qj_3         \n",
    "qj_4         \n",
    "qj_5          \n",
    "qj_6         \n",
    "qj_7          \n",
    "qj_8          \n",
    "qj_9         \n",
    "qj_10         \n",
    "qj_11        \n",
    "qj_12        \n",
    "dqj_1        \n",
    "dqj_2         \n",
    "dqj_3        \n",
    "dqj_4        \n",
    "dqj_5        \n",
    "dqj_6        \n",
    "dqj_7         \n",
    "dqj_8        \n",
    "dqj_9        \n",
    "dqj_10       \n",
    "dqj_11        \n",
    "dqj_12       \n",
    "foot_1        \n",
    "foot_2        \n",
    "foot_3       \n",
    "foot_4 "
   ]
  }
 ],
 "metadata": {
  "kernelspec": {
   "display_name": "Python 3",
   "language": "python",
   "name": "python3"
  },
  "language_info": {
   "codemirror_mode": {
    "name": "ipython",
    "version": 3
   },
   "file_extension": ".py",
   "mimetype": "text/x-python",
   "name": "python",
   "nbconvert_exporter": "python",
   "pygments_lexer": "ipython3",
   "version": "3.8.19"
  }
 },
 "nbformat": 4,
 "nbformat_minor": 2
}
